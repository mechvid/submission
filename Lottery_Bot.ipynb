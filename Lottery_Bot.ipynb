{
  "nbformat": 4,
  "nbformat_minor": 0,
  "metadata": {
    "colab": {
      "provenance": [],
      "authorship_tag": "ABX9TyP1zDrRh55cPO8ek7oyDhmm",
      "include_colab_link": true
    },
    "kernelspec": {
      "name": "python3",
      "display_name": "Python 3"
    },
    "language_info": {
      "name": "python"
    }
  },
  "cells": [
    {
      "cell_type": "markdown",
      "metadata": {
        "id": "view-in-github",
        "colab_type": "text"
      },
      "source": [
        "<a href=\"https://colab.research.google.com/github/mechvid/submission/blob/main/Lottery_Bot.ipynb\" target=\"_parent\"><img src=\"https://colab.research.google.com/assets/colab-badge.svg\" alt=\"Open In Colab\"/></a>"
      ]
    },
    {
      "cell_type": "code",
      "execution_count": null,
      "metadata": {
        "id": "DNkWFOFoUPN8"
      },
      "outputs": [],
      "source": [
        "import random\n",
        "\n",
        "def lottery_game():\n",
        "    print(\"Welcome to the Lottery Bot!\")\n",
        "    print(\"Enter a number and see if you win the lottery!\")\n",
        "\n",
        "    # Get valid input from user\n",
        "    while True:\n",
        "        try:\n",
        "            max_range = int(input(\"Enter the maximum range for lottery numbers: \"))\n",
        "            if max_range < 1:\n",
        "                print(\"Range must be at least 1. Please try again.\")\n",
        "                continue\n",
        "            break\n",
        "        except ValueError:\n",
        "            print(\"Please enter a valid number.\")\n",
        "\n",
        "    while True:\n",
        "        try:\n",
        "            user_number = int(input(f\"Enter your lucky number (1-{max_range}): \"))\n",
        "            if user_number < 1 or user_number > max_range:\n",
        "                print(f\"Number must be between 1 and {max_range}. Please try again.\")\n",
        "                continue\n",
        "            break\n",
        "        except ValueError:\n",
        "            print(\"Please enter a valid number.\")\n",
        "\n",
        "    # Generate random lottery number\n",
        "    lottery_number = random.randint(1, max_range)\n",
        "\n",
        "    # Display results\n",
        "    print(\"\\nDrum roll please...\")\n",
        "    print(f\"Your number: {user_number}\")\n",
        "    print(f\"Lottery number: {lottery_number}\")\n",
        "\n",
        "    # Check if user won\n",
        "    if user_number == lottery_number:\n",
        "        print(\"\\n🎉 CONGRATULATIONS! You won the lottery! 🎉\")\n",
        "        print(f\"The odds of winning were 1 in {max_range}!\")\n",
        "    else:\n",
        "        print(\"\\nSorry, you didn't win this time. Better luck next time!\")\n",
        "\n",
        "    # Ask to play again\n",
        "    play_again = input(\"\\nWould you like to play again? (yes/no): \").lower()\n",
        "    if play_again == \"yes\" or play_again == \"y\":\n",
        "        lottery_game()\n",
        "    else:\n",
        "        print(\"Thank you for playing the Lottery Bot! Goodbye!\")\n",
        "\n",
        "# Start the game\n",
        "lottery_game()"
      ]
    }
  ]
}